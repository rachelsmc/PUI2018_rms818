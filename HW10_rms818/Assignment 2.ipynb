{
 "cells": [
  {
   "cell_type": "markdown",
   "metadata": {
    "run_control": {
     "frozen": false,
     "read_only": false
    }
   },
   "source": [
    "\n",
    "## captions are strictly mandatory: no captions no points. The discussion of what you do is the ultimate deliverable of each task\n",
    "\n",
    "Captions need to describe: what is plotted and what is interesting about it\n",
    "\n",
    "\n",
    "PLEASE REMEMBER: download your data in a reproducible way, seed your random functions if you need to use any, label your axes clearly, captions for each figure that explains what is shown, and what is noticeable about it, comment your code.\n",
    "\n"
   ]
  },
  {
   "cell_type": "markdown",
   "metadata": {
    "run_control": {
     "frozen": false,
     "read_only": false
    }
   },
   "source": [
    "\n",
    "\n",
    "\n",
    "## respect coding standards\n",
    "*The [following PEP8 rules](https://docs.google.com/document/d/1-XnKK4xRBA5FXOBa4p0Z4in7qfVyk4CutjSMEX-jpTQ/edit?usp=sharing) are now required*\n",
    "\n",
    "Points will be taken off if they are violated\n",
    "\n",
    "## problem statement\n",
    "\n",
    "** An interesting and popular urban science question is \"can we measure and predict energy use based on observables that are easily acquired\". For example the urban observatory at CUSP can monitor lights: they are a relatively easy observable. All you need is a camera, and a pipeline to process your data. But how does the light coming from a window relate to the total energy consumption? We generally postulate that light is a proxy for occupancy, and that occupancy is a good predictor of energy consumption.**\n",
    "\n",
    "** So let's test if the last link holds. If we have data on the _energy consumed by a building_ how well does that relate to the _number of units_ in the building?**\n",
    "\n",
    "** Data on energy consumption can be found here for the city of NY https://data.cityofnewyork.us/Environment/Energy-and-Water-Data-Disclosure-for-Local-Law-84-/rgfe-8y2z  **\n",
    "\n",
    "** Either obtain the data through the API or download the csv file, and move it to $PUIDATA**\n",
    "\n",
    "** However this datasets does not have the number of units. We can find that in the [Pluto dataset](https://www1.nyc.gov/site/planning/data-maps/open-data/dwn-pluto-mappluto.page).**\n",
    "\n",
    "** Reading in the Pluto data for manhattan, which will give me the number of units per building   Manhattan/MNMapPLUTO.shp ** Note that you should keep all the files in the original MNMapPluto zipped folder (not just the .shp file) for geopandas to read the data in correctly."
   ]
  },
  {
   "cell_type": "markdown",
   "metadata": {
    "run_control": {
     "frozen": false,
     "read_only": false
    }
   },
   "source": [
    "# data acquisition"
   ]
  },
  {
   "cell_type": "markdown",
   "metadata": {
    "ExecuteTime": {
     "end_time": "2018-11-19T02:14:27.099540Z",
     "start_time": "2018-11-19T02:14:27.093567Z"
    },
    "run_control": {
     "frozen": false,
     "read_only": false
    }
   },
   "source": [
    "## download, move data to $PUIDATA, and read data in \n",
    "make sure you limit the PLUTO dataset to Manhattan, The entire NYC PLUTO dataset is huge!"
   ]
  },
  {
   "cell_type": "code",
   "execution_count": 1,
   "metadata": {},
   "outputs": [
    {
     "name": "stdout",
     "output_type": "stream",
     "text": [
      "Populating the interactive namespace from numpy and matplotlib\n"
     ]
    },
    {
     "name": "stderr",
     "output_type": "stream",
     "text": [
      "/usr/local/Anaconda3-5.0.0-Linux-x86_64/envs/PUI2016_Python3/lib/python3.5/site-packages/IPython/core/magics/pylab.py:161: UserWarning: pylab import has clobbered these variables: ['plt']\n",
      "`%matplotlib` prevents importing * from pylab and numpy\n",
      "  \"\\n`%matplotlib` prevents importing * from pylab and numpy\"\n"
     ]
    }
   ],
   "source": [
    "try:\n",
    "    import urllib2 as urllib\n",
    "except ImportError:\n",
    "    import urllib as urllib\n",
    "\n",
    "from __future__ import print_function\n",
    "\n",
    "import pandas as pd\n",
    "import geopandas as gpd\n",
    "import os\n",
    "import numpy as np\n",
    "import matplotlib as plt\n",
    "import statsmodels.api as sm\n",
    "import statsmodels.formula.api as smf\n",
    "import statsmodels.graphics as smg\n",
    "import matplotlib.gridspec as gridspec\n",
    "\n",
    "%pylab inline"
   ]
  },
  {
   "cell_type": "code",
   "execution_count": 2,
   "metadata": {},
   "outputs": [],
   "source": [
    "if not os.path.isfile(os.getenv(\"PUIDATA\") + \"/NYCenergy.csv\"):\n",
    "    url = 'https://data.cityofnewyork.us/api/views/rgfe-8y2z/rows.csv?accessType=DOWNLOAD'\n",
    "    urllib.request.urlretrieve(url, \"NYCenergy.csv\")\n",
    "    ! mv NYCenergy.csv $PUIDATA"
   ]
  },
  {
   "cell_type": "code",
   "execution_count": 3,
   "metadata": {},
   "outputs": [],
   "source": [
    "if not os.path.isfile(os.getenv(\"PUIDATA\") + \"/man_pluto/PLUTODD18v1.pdf\"):\n",
    "    url = 'https://www1.nyc.gov/assets/planning/download/zip/data-maps/open-data/mn_mappluto_18v1.zip'\n",
    "    urllib.request.urlretrieve(url, \"man_pluto.zip\")\n",
    "    !unzip -d $PUIDATA/man_pluto man_pluto.zip"
   ]
  },
  {
   "cell_type": "code",
   "execution_count": 4,
   "metadata": {
    "ExecuteTime": {
     "end_time": "2018-11-19T01:13:21.354668Z",
     "start_time": "2018-11-19T01:13:12.464394Z"
    },
    "run_control": {
     "frozen": false,
     "read_only": false
    }
   },
   "outputs": [],
   "source": [
    "# load the building size as a geoDF and the local law 84 as a dataframe\n",
    "nrg = pd.read_csv(os.getenv(\"PUIDATA\") + \"/NYCenergy.csv\")\n",
    "\n",
    "bsize = gpd.GeoDataFrame.from_file(os.getenv(\"PUIDATA\") + \"/man_pluto/MNMapPLUTO.shp\")"
   ]
  },
  {
   "cell_type": "markdown",
   "metadata": {
    "run_control": {
     "frozen": false,
     "read_only": false
    }
   },
   "source": [
    "## exploring the data a bit\n",
    "\n",
    "As we discussed, coming up with a sensible model generally requires domain expertise. However, if the data you are investigating shows \"obvious patterns\", for example if two of the variable look like a line when plotted one against the other, then those patterns (correlations) may help you finding reasonable models for the data.\n",
    "\n",
    "Explore your data, starting with a scatter matrix. \n",
    "A scatter matrix is a plot of all variables in your data against all other variables: \n",
    "each pair of variables is a subplot in the plot matrix. The diagonal line then would be a plot of a variable against itself, which is useless, so it is usually substituted by a histogram of that variable (or sometimes a KDE, which is basically a smooth histogram)."
   ]
  },
  {
   "cell_type": "code",
   "execution_count": 5,
   "metadata": {
    "ExecuteTime": {
     "end_time": "2018-11-19T01:14:25.762440Z",
     "start_time": "2018-11-19T01:13:21.358538Z"
    },
    "run_control": {
     "frozen": false,
     "read_only": false
    },
    "scrolled": false
   },
   "outputs": [
    {
     "data": {
      "image/png": "[encoded data removed]",
      "text/plain": [
       "<matplotlib.figure.Figure at 0x7eff41721048>"
      ]
     },
     "metadata": {},
     "output_type": "display_data"
    }
   ],
   "source": [
    "sfig = pd.scatter_matrix(nrg, s=30, figsize=(10, 10), diagonal='kde')\n",
    "n = 11\n",
    "for x in range(n):\n",
    "    for y in range(n):\n",
    "        ax = sfig[x, y]\n",
    "        ax.xaxis.label.set_rotation(90)\n",
    "        ax.yaxis.label.set_rotation(0)\n",
    "        ax.xaxis.set_ticks([])\n",
    "        ax.yaxis.set_ticks([])\n",
    "        ax.xaxis.labelpad = 10\n",
    "        ax.yaxis.labelpad = 10\n",
    "        ax.yaxis.label.set_horizontalalignment('right')"
   ]
  },
  {
   "cell_type": "markdown",
   "metadata": {
    "run_control": {
     "frozen": false,
     "read_only": false
    }
   },
   "source": [
    "**Figure 1**: Scatter Matrix of energy consumption in NYC dataset with KDEs in the diagonal. This is not particularly useful. "
   ]
  },
  {
   "cell_type": "markdown",
   "metadata": {
    "run_control": {
     "frozen": false,
     "read_only": false
    }
   },
   "source": [
    "This kind of plot shows correlations between variables, but it will also show me what can and cannot be plotted trivially in my dataset. Here only a few columns can be plotted: those that contain only numbers (and possibly NaN's), but most columns contain rows that cannot be converted to float (e.g. entries like 'See Primary BBL' in several rows for the energy dataframe 'Site EUI(kBtu/ft2) ' column) , so Pandas refuses to plot them, cause it does not know what to do with those entries. The columns I am interested in are in fact u'Site EUI(kBtu/ft2)' which is a measure of the energy consumed PER SQ FOOT by a building, and then the building area: for eg. u'Reported Property Floor Area (Building(s)) (ft²)'. Neither gets plotted: I need to remove all values that cannot convert to float in order to use the columns and convert them to float arrays and do math with them.\n",
    "\n",
    "You can use pd.to_numeric() which is a function that transforms values to float (when possible). The default behavior of this function is to throw an error if it encounters a value that it cannot convert. That behavior can be modified with the \"error\" keyword, by setting it to \"coerce\". Please look at the function documentation to understand the syntax."
   ]
  },
  {
   "cell_type": "markdown",
   "metadata": {
    "run_control": {
     "frozen": false,
     "read_only": false
    }
   },
   "source": [
    "## data cleaning and aggregation \n",
    "### checking the content of the datasets\n"
   ]
  },
  {
   "cell_type": "markdown",
   "metadata": {
    "collapsed": true,
    "run_control": {
     "frozen": false,
     "read_only": false
    }
   },
   "source": [
    "clean up columns I am not using: for my solution, I will keep  BBL, 'Site EUI(kBtu/ft2)', 'Reported Property Floor Area (Building(s)) (ft²)' from the energy dataframe, and BBL , UnitsTotal, UnitsRes, 'YearBuilt', and 'geometry' from the PLUTO geodaraframe"
   ]
  },
  {
   "cell_type": "markdown",
   "metadata": {
    "run_control": {
     "frozen": false,
     "read_only": false
    }
   },
   "source": [
    "### remove what you do not need"
   ]
  },
  {
   "cell_type": "code",
   "execution_count": 6,
   "metadata": {
    "ExecuteTime": {
     "end_time": "2018-11-19T01:14:25.779133Z",
     "start_time": "2018-11-19T01:14:25.766293Z"
    },
    "run_control": {
     "frozen": false,
     "marked": false,
     "read_only": false
    },
    "scrolled": true
   },
   "outputs": [
    {
     "data": {
      "text/plain": [
       "Index(['Record Number', 'BBL', 'Co-reported BBL Status', 'BBLs Co-reported',\n",
       "       'Reported NYC Building Identificaiton Numbers (BINs)', 'Street Number',\n",
       "       'Street Name', 'Borough', 'Postcode',\n",
       "       'DOF Benchmarking Submission Status', 'Site EUI(kBtu/ft2)',\n",
       "       'Weather Normalized Site EUI(kBtu/ft2)', 'Source EUI(kBtu/ft2)',\n",
       "       'Weather Normalized Source EUI(kBtu/ft2)',\n",
       "       'Municipally Supplied Potable Water - Indoor Intensity (gal/ft²)',\n",
       "       'Automatic Water Benchmarking Eligible', 'Reported Water Method',\n",
       "       'ENERGY STAR Score', 'Total GHG Emissions(MtCO2e)',\n",
       "       'Direct GHG Emissions(MtCO2e)', 'Indirect GHG Emissions(MtCO2e)',\n",
       "       'Reported Property Floor Area (Building(s)) (ft²)',\n",
       "       'DOF Property Floor Area (Buildngs and Parking)(ft2)',\n",
       "       'Primary Property Type - Self Selected', 'DOF Number of Buildings',\n",
       "       'Latitude', 'Longitude', 'Community Board', 'Council District',\n",
       "       'Census Tract', 'BIN', 'NTA'],\n",
       "      dtype='object')"
      ]
     },
     "execution_count": 6,
     "metadata": {},
     "output_type": "execute_result"
    }
   ],
   "source": [
    "nrg.columns"
   ]
  },
  {
   "cell_type": "code",
   "execution_count": 7,
   "metadata": {},
   "outputs": [],
   "source": [
    "nrg = nrg[['BBL', 'Site EUI(kBtu/ft2)', 'Reported Property Floor Area (Building(s)) (ft²)']]"
   ]
  },
  {
   "cell_type": "code",
   "execution_count": 8,
   "metadata": {
    "ExecuteTime": {
     "end_time": "2018-11-19T01:14:25.833799Z",
     "start_time": "2018-11-19T01:14:25.815558Z"
    },
    "run_control": {
     "frozen": false,
     "read_only": false
    }
   },
   "outputs": [
    {
     "data": {
      "text/plain": [
       "Index(['APPBBL', 'APPDate', 'Address', 'AreaSource', 'AssessLand', 'AssessTot',\n",
       "       'BBL', 'BldgArea', 'BldgClass', 'BldgDepth', 'BldgFront', 'Block',\n",
       "       'BoroCode', 'Borough', 'BsmtCode', 'BuiltFAR', 'CB2010', 'CD', 'CT2010',\n",
       "       'ComArea', 'CommFAR', 'CondoNo', 'Council', 'EDesigNum', 'Easements',\n",
       "       'ExemptLand', 'ExemptTot', 'Ext', 'FIRM07_FLA', 'FacilFAR',\n",
       "       'FactryArea', 'FireComp', 'GarageArea', 'HealthArea', 'HealthCent',\n",
       "       'HistDist', 'IrrLotCode', 'LandUse', 'Landmark', 'Lot', 'LotArea',\n",
       "       'LotDepth', 'LotFront', 'LotType', 'LtdHeight', 'MAPPLUTO_F',\n",
       "       'NumBldgs', 'NumFloors', 'OfficeArea', 'OtherArea', 'Overlay1',\n",
       "       'Overlay2', 'OwnerName', 'OwnerType', 'PFIRM15_FL', 'PLUTOMapID',\n",
       "       'PolicePrct', 'ProxCode', 'ResArea', 'ResidFAR', 'RetailArea',\n",
       "       'SHAPE_area', 'SHAPE_len', 'SPDist1', 'SPDist2', 'SPDist3', 'Sanborn',\n",
       "       'SanitBoro', 'SanitDistr', 'SanitSub', 'SchoolDist', 'SplitZone',\n",
       "       'StrgeArea', 'TaxMap', 'Tract2010', 'UnitsRes', 'UnitsTotal', 'Version',\n",
       "       'XCoord', 'YCoord', 'YearAlter1', 'YearAlter2', 'YearBuilt', 'ZMCode',\n",
       "       'ZipCode', 'ZoneDist1', 'ZoneDist2', 'ZoneDist3', 'ZoneDist4',\n",
       "       'ZoneMap', 'geometry'],\n",
       "      dtype='object')"
      ]
     },
     "execution_count": 8,
     "metadata": {},
     "output_type": "execute_result"
    }
   ],
   "source": [
    "bsize.columns.sort_values()"
   ]
  },
  {
   "cell_type": "code",
   "execution_count": 9,
   "metadata": {},
   "outputs": [],
   "source": [
    "bsize = bsize[['BBL' , 'UnitsTotal', 'UnitsRes', 'YearBuilt', 'geometry']]"
   ]
  },
  {
   "cell_type": "code",
   "execution_count": 10,
   "metadata": {
    "ExecuteTime": {
     "end_time": "2018-11-19T01:14:26.165103Z",
     "start_time": "2018-11-19T01:14:26.138188Z"
    },
    "run_control": {
     "frozen": false,
     "read_only": false
    }
   },
   "outputs": [
    {
     "data": {
      "text/html": [
       "<div>\n",
       "<table border=\"1\" class=\"dataframe\">\n",
       "  <thead>\n",
       "    <tr style=\"text-align: right;\">\n",
       "      <th></th>\n",
       "      <th>BBL</th>\n",
       "      <th>Site EUI(kBtu/ft2)</th>\n",
       "      <th>Reported Property Floor Area (Building(s)) (ft²)</th>\n",
       "    </tr>\n",
       "  </thead>\n",
       "  <tbody>\n",
       "    <tr>\n",
       "      <th>0</th>\n",
       "      <td>1.000410e+09</td>\n",
       "      <td>NaN</td>\n",
       "      <td>918919</td>\n",
       "    </tr>\n",
       "    <tr>\n",
       "      <th>1</th>\n",
       "      <td>4.021460e+09</td>\n",
       "      <td>NaN</td>\n",
       "      <td>NaN</td>\n",
       "    </tr>\n",
       "    <tr>\n",
       "      <th>2</th>\n",
       "      <td>2.027620e+09</td>\n",
       "      <td>NaN</td>\n",
       "      <td>64200</td>\n",
       "    </tr>\n",
       "    <tr>\n",
       "      <th>3</th>\n",
       "      <td>1.006700e+09</td>\n",
       "      <td>NaN</td>\n",
       "      <td>NaN</td>\n",
       "    </tr>\n",
       "    <tr>\n",
       "      <th>4</th>\n",
       "      <td>2.048300e+09</td>\n",
       "      <td>NaN</td>\n",
       "      <td>50000</td>\n",
       "    </tr>\n",
       "  </tbody>\n",
       "</table>\n",
       "</div>"
      ],
      "text/plain": [
       "            BBL Site EUI(kBtu/ft2)  \\\n",
       "0  1.000410e+09                NaN   \n",
       "1  4.021460e+09                NaN   \n",
       "2  2.027620e+09                NaN   \n",
       "3  1.006700e+09                NaN   \n",
       "4  2.048300e+09                NaN   \n",
       "\n",
       "  Reported Property Floor Area (Building(s)) (ft²)  \n",
       "0                                           918919  \n",
       "1                                              NaN  \n",
       "2                                            64200  \n",
       "3                                              NaN  \n",
       "4                                            50000  "
      ]
     },
     "execution_count": 10,
     "metadata": {},
     "output_type": "execute_result"
    }
   ],
   "source": [
    "#leave\n",
    "nrg.head()"
   ]
  },
  {
   "cell_type": "code",
   "execution_count": null,
   "metadata": {
    "ExecuteTime": {
     "end_time": "2018-11-19T03:39:24.000170Z",
     "start_time": "2018-11-19T03:39:23.960211Z"
    },
    "run_control": {
     "frozen": false,
     "read_only": false
    }
   },
   "outputs": [
    {
     "data": {
      "text/html": [
       "<div>\n",
       "<table border=\"1\" class=\"dataframe\">\n",
       "  <thead>\n",
       "    <tr style=\"text-align: right;\">\n",
       "      <th></th>\n",
       "      <th>BBL</th>\n",
       "      <th>UnitsTotal</th>\n",
       "      <th>UnitsRes</th>\n",
       "      <th>YearBuilt</th>\n",
       "      <th>geometry</th>\n",
       "    </tr>\n",
       "  </thead>\n",
       "  <tbody>\n",
       "    <tr>\n",
       "      <th>0</th>\n",
       "      <td>1.015450e+09</td>\n",
       "      <td>18</td>\n",
       "      <td>16</td>\n",
       "      <td>1920</td>\n",
       "      <td>POLYGON ((997277.2344360352 221816.0936279297,...</td>\n",
       "    </tr>\n",
       "    <tr>\n",
       "      <th>1</th>\n",
       "      <td>1.007238e+09</td>\n",
       "      <td>50</td>\n",
       "      <td>50</td>\n",
       "      <td>1914</td>\n",
       "      <td>POLYGON ((984164.5626220703 211846.0704345703,...</td>\n",
       "    </tr>\n",
       "    <tr>\n",
       "      <th>2</th>\n",
       "      <td>1.016800e+09</td>\n",
       "      <td>10</td>\n",
       "      <td>10</td>\n",
       "      <td>1910</td>\n",
       "      <td>POLYGON ((1000742.195800781 227910.6640014648,...</td>\n",
       "    </tr>\n",
       "    <tr>\n",
       "      <th>3</th>\n",
       "      <td>1.013850e+09</td>\n",
       "      <td>32</td>\n",
       "      <td>29</td>\n",
       "      <td>1928</td>\n",
       "      <td>POLYGON ((994007.6885986328 219880.4284057617,...</td>\n",
       "    </tr>\n",
       "    <tr>\n",
       "      <th>4</th>\n",
       "      <td>1.011970e+09</td>\n",
       "      <td>26</td>\n",
       "      <td>26</td>\n",
       "      <td>1900</td>\n",
       "      <td>POLYGON ((992273.6849975586 224863.4904174805,...</td>\n",
       "    </tr>\n",
       "  </tbody>\n",
       "</table>\n",
       "</div>"
      ],
      "text/plain": [
       "            BBL  UnitsTotal  UnitsRes  YearBuilt  \\\n",
       "0  1.015450e+09          18        16       1920   \n",
       "1  1.007238e+09          50        50       1914   \n",
       "2  1.016800e+09          10        10       1910   \n",
       "3  1.013850e+09          32        29       1928   \n",
       "4  1.011970e+09          26        26       1900   \n",
       "\n",
       "                                            geometry  \n",
       "0  POLYGON ((997277.2344360352 221816.0936279297,...  \n",
       "1  POLYGON ((984164.5626220703 211846.0704345703,...  \n",
       "2  POLYGON ((1000742.195800781 227910.6640014648,...  \n",
       "3  POLYGON ((994007.6885986328 219880.4284057617,...  \n",
       "4  POLYGON ((992273.6849975586 224863.4904174805,...  "
      ]
     },
     "execution_count": 11,
     "metadata": {},
     "output_type": "execute_result"
    }
   ],
   "source": [
    "#leave\n",
    "bsize.head()"
   ]
  },
  {
   "cell_type": "code",
   "execution_count": null,
   "metadata": {
    "ExecuteTime": {
     "end_time": "2018-11-19T03:40:51.106756Z",
     "start_time": "2018-11-19T03:40:16.702726Z"
    },
    "run_control": {
     "frozen": false,
     "read_only": false
    }
   },
   "outputs": [],
   "source": [
    "#leave (dont try this scatter matrix before cleaning the data, it will take a while)\n",
    "sfig = pd.scatter_matrix(bsize, s=30, figsize=(10, 10), diagonal='kde')\n",
    "n = 4\n",
    "for x in range(n):\n",
    "    for y in range(n):\n",
    "        ax = sfig[x, y]\n",
    "        ax.xaxis.set_label_coords(0.5, -0.3)\n",
    "        ax.yaxis.set_label_coords(-0.5, 0.5)"
   ]
  },
  {
   "cell_type": "markdown",
   "metadata": {
    "run_control": {
     "frozen": false,
     "read_only": false
    }
   },
   "source": [
    "**Figure 2**: Scatter Matrix for Manhattan Pluto data. There seems to be a positive correlation between UnitsRes and UnitsTotal which makes sense. There seems to be a number of buildings built in year 0, so there might be some errors in the data.\n",
    "\n",
    "\n",
    "- BBL: NYC Borough, Block, and Lot.\n",
    "- UnitsTotal: Sum of residential and non-residential (offices, retail stores, etc.) units in all buildings on the tax lot.\n",
    "- UnitsRes: Sum of residential units in all buildings on the tax lot."
   ]
  },
  {
   "cell_type": "markdown",
   "metadata": {
    "run_control": {
     "frozen": false,
     "read_only": false
    }
   },
   "source": [
    "## converting  the relevant columns to numeric values and throwing away spurious entries"
   ]
  },
  {
   "cell_type": "markdown",
   "metadata": {
    "run_control": {
     "frozen": false,
     "read_only": false
    }
   },
   "source": [
    "use pd.to_numeric() to convert strings to numeric values, remember the keyword \"errors\" which will be useful\n"
   ]
  },
  {
   "cell_type": "code",
   "execution_count": null,
   "metadata": {},
   "outputs": [],
   "source": [
    "nrg['Site EUI(kBtu/ft2)'] = pd.to_numeric(nrg['Site EUI(kBtu/ft2)'], errors='coerce')\n",
    "nrg['Reported Property Floor Area (Building(s)) (ft²)'] = pd.to_numeric(nrg['Reported Property Floor Area (Building(s)) (ft²)'],\n",
    "                                                                       errors='coerce')"
   ]
  },
  {
   "cell_type": "code",
   "execution_count": null,
   "metadata": {
    "scrolled": true
   },
   "outputs": [],
   "source": [
    "nrg.dtypes"
   ]
  },
  {
   "cell_type": "code",
   "execution_count": null,
   "metadata": {
    "scrolled": true
   },
   "outputs": [],
   "source": [
    "bsize.dtypes"
   ]
  },
  {
   "cell_type": "code",
   "execution_count": null,
   "metadata": {
    "ExecuteTime": {
     "end_time": "2018-11-19T01:28:44.620810Z",
     "start_time": "2018-11-19T01:28:44.609379Z"
    },
    "run_control": {
     "frozen": false,
     "read_only": false
    },
    "scrolled": true
   },
   "outputs": [],
   "source": [
    "##check that your conversion worked: e.g.\n",
    "nrg['Site EUI(kBtu/ft2)'].astype(float)[:10], bsize.BBL.astype(float)[:10]\n",
    "#[...] do this for all columns you care about in both datasets. \n",
    "#Nan's are ok, but you must not get an error when you try the conversion\n",
    "#the Pluto data is much better at not using spurious entries for numerical value columns. \n",
    "#but check you can use the columns you want\n",
    "\n",
    "#this should not return an error\n",
    "#notice I can use the attribute notation to refer to columns in bsize, \n",
    "#cause the column names do not have spaces!\n"
   ]
  },
  {
   "cell_type": "code",
   "execution_count": null,
   "metadata": {
    "ExecuteTime": {
     "end_time": "2018-11-19T01:29:49.935308Z",
     "start_time": "2018-11-19T01:29:49.928222Z"
    },
    "run_control": {
     "frozen": false,
     "marked": false,
     "read_only": false
    }
   },
   "outputs": [],
   "source": [
    "##check that your conversion worked: e.g.\n",
    "print (\"number of missing energy observations:\", np.isnan(nrg['Site EUI(kBtu/ft2)'].astype(float)).sum())"
   ]
  },
  {
   "cell_type": "code",
   "execution_count": null,
   "metadata": {
    "ExecuteTime": {
     "end_time": "2018-11-19T01:30:37.434526Z",
     "start_time": "2018-11-19T01:30:37.427916Z"
    },
    "run_control": {
     "frozen": false,
     "marked": false,
     "read_only": false
    }
   },
   "outputs": [],
   "source": [
    "##check that your conversion worked: e.g.\n",
    "print (\"fraction of missing energy observations: %.2f\"%(np.isnan(nrg['Site EUI(kBtu/ft2)'].astype(float)).sum() /\n",
    "      len(nrg['Site EUI(kBtu/ft2)'])))"
   ]
  },
  {
   "cell_type": "markdown",
   "metadata": {
    "run_control": {
     "frozen": false,
     "read_only": false
    }
   },
   "source": [
    " ## merge the 2 datasets\n",
    " I can merge the dataframes on NYC Borough, Block, and Lot: BBL"
   ]
  },
  {
   "cell_type": "code",
   "execution_count": null,
   "metadata": {
    "ExecuteTime": {
     "end_time": "2018-11-19T01:31:44.247293Z",
     "start_time": "2018-11-19T01:31:44.233324Z"
    },
    "run_control": {
     "frozen": false,
     "marked": false,
     "read_only": false
    }
   },
   "outputs": [],
   "source": [
    "nrg.head()"
   ]
  },
  {
   "cell_type": "code",
   "execution_count": null,
   "metadata": {
    "run_control": {
     "frozen": false,
     "read_only": false
    }
   },
   "outputs": [],
   "source": [
    "#merge in a geodataframe for mapping, and if you want in a regular DF for analysis (more portable)\n",
    "bblnrgdataGPD = bsize.merge(nrg, how='outer', on='BBL')"
   ]
  },
  {
   "cell_type": "code",
   "execution_count": null,
   "metadata": {},
   "outputs": [],
   "source": [
    "bblnrgdata = nrg.merge(bsize, how='outer', on='BBL')\n",
    "bblnrgdata.drop(labels='geometry', axis=1, inplace=True)\n",
    "bblnrgdata.dropna(axis=0, inplace=True)\n",
    "bblnrgdata.reset_index(drop=True, inplace=True)\n",
    "bblnrgdata.rename(columns={'Reported Property Floor Area (Building(s)) (ft²)':'Area (ft²)'}, inplace=True)\n",
    "bblnrgdata.head()"
   ]
  },
  {
   "cell_type": "markdown",
   "metadata": {
    "run_control": {
     "frozen": false,
     "read_only": false
    }
   },
   "source": [
    "# Plot the data as a choropleth for the 2 quantities of interest: number of units and energy consumed energy"
   ]
  },
  {
   "cell_type": "code",
   "execution_count": null,
   "metadata": {},
   "outputs": [],
   "source": [
    "bblnrgdataGPD['logarea'] = np.log10(bblnrgdataGPD['Reported Property Floor Area (Building(s)) (ft²)'])\n",
    "bblnrgdataGPD['lognrg'] = np.log10(bblnrgdataGPD['Site EUI(kBtu/ft2)'])\n",
    "bblnrgdataGPD.dropna(axis=0, inplace=True)\n",
    "bblnrgdataGPD.reset_index(drop=True, inplace=True)\n",
    "bblnrgdataGPD.rename(columns={'Reported Property Floor Area (Building(s)) (ft²)':'Area (ft²)'}, inplace=True)\n",
    "bblnrgdataGPD.head()"
   ]
  },
  {
   "cell_type": "markdown",
   "metadata": {},
   "source": [
    "### Plotting for Log Floor Area (ft $^2$) and Log EUI"
   ]
  },
  {
   "cell_type": "code",
   "execution_count": null,
   "metadata": {
    "ExecuteTime": {
     "end_time": "2018-11-19T01:35:17.882921Z",
     "start_time": "2018-11-19T01:35:10.514583Z"
    },
    "run_control": {
     "frozen": false,
     "marked": false,
     "read_only": false
    },
    "scrolled": false
   },
   "outputs": [],
   "source": [
    "fig = plt.figure(figsize=(10,20)) \n",
    "\n",
    "ax1 = fig.add_subplot(211)\n",
    "ax1.set_axis_off()\n",
    "ax1.set_title('Log Area (ft²) of Buildings in Manhattan')\n",
    "bblnrgdataGPD.plot('logarea', legend=True, ax=ax1)\n",
    "ax1.axes.set_aspect('auto', 'datalim')\n",
    "\n",
    "ax2 = fig.add_subplot(212)\n",
    "ax2.set_axis_off()\n",
    "ax2.set_title('Log Energy Use Intensity (kBtu/ft²) of Buildings in Manhattan')\n",
    "bblnrgdataGPD.plot('lognrg', legend=True, ax=ax2)\n",
    "ax2.axes.set_aspect('auto', 'datalim')"
   ]
  },
  {
   "cell_type": "markdown",
   "metadata": {},
   "source": [
    "**Figure 3**: Choropleths of area of buildings and energy use intensity in Manhattan. The first choropleth shows that there is variation in reported building floor areas but the second choropleth seems to indicate that the energy use intensity across buildings Manhattan are relatively similar. "
   ]
  },
  {
   "cell_type": "markdown",
   "metadata": {
    "run_control": {
     "frozen": false,
     "read_only": false
    }
   },
   "source": [
    "# feature engineering\n",
    "the question was not if larger buildings consume more energy, its if occupancy increases consumption, so we want to model *total energy* with *total units*.\n",
    "Create a total energy column from the columns you have.\n",
    "Plot a column vs the other. You will be unable to see most of the points (as in the plot below). Make another plot \"zooming in\" to remove some outliers from the view and see if this reveals some patterns."
   ]
  },
  {
   "cell_type": "code",
   "execution_count": null,
   "metadata": {
    "scrolled": true
   },
   "outputs": [],
   "source": [
    "bblnrgdata = bblnrgdata[bblnrgdata['Site EUI(kBtu/ft2)'] != 0]\n",
    "bblnrgdata.head()"
   ]
  },
  {
   "cell_type": "code",
   "execution_count": null,
   "metadata": {
    "ExecuteTime": {
     "end_time": "2018-11-19T01:45:15.170331Z",
     "start_time": "2018-11-19T01:45:14.755918Z"
    },
    "run_control": {
     "frozen": false,
     "marked": false,
     "read_only": false
    }
   },
   "outputs": [],
   "source": [
    "## multiplying area by energy/area to get total energy per building\n",
    "bblnrgdata['nrg'] = bblnrgdata['Area (ft²)'].astype(float) * bblnrgdata['Site EUI(kBtu/ft2)'].astype(float)\n",
    "print('minimum building energy value %f' %min(bblnrgdata['nrg']))\n",
    "print('maximum building energy value %f' %max(bblnrgdata['nrg']))"
   ]
  },
  {
   "cell_type": "code",
   "execution_count": null,
   "metadata": {},
   "outputs": [],
   "source": [
    "fig = plt.figure(figsize=(12,12)) \n",
    "\n",
    "ax = fig.add_subplot(111)\n",
    "ax.scatter(x='nrg', y='UnitsTotal', data=bblnrgdata)\n",
    "ax.set_xlabel('Energy Consumption per Building (kBtu)', fontsize=15)\n",
    "ax.set_ylabel('Number of Units in Building', fontsize=15)\n",
    "ax.set_title('Units against Energy Consumption per building', fontsize=15)"
   ]
  },
  {
   "cell_type": "markdown",
   "metadata": {},
   "source": [
    "**Figure 4**: This scatter plot of number of units against energy consumption per building is not very informative because outliers have not been removed."
   ]
  },
  {
   "cell_type": "code",
   "execution_count": null,
   "metadata": {
    "scrolled": false
   },
   "outputs": [],
   "source": [
    "# removing outliers\n",
    "bblnrgdata_plot = bblnrgdata[bblnrgdata['nrg'] < 0.6 * 1e8]\n",
    "bblnrgdata_plot = bblnrgdata_plot[bblnrgdata_plot['UnitsTotal'] < 1000]\n",
    "bblnrgdata_plot.head()"
   ]
  },
  {
   "cell_type": "code",
   "execution_count": null,
   "metadata": {},
   "outputs": [],
   "source": [
    "print('original number of points: %i' %len(bblnrgdata['nrg']))\n",
    "print('after removing outliers: %i' %len(bblnrgdata_plot['nrg']))\n",
    "print('total number of points removed: %i' %(len(bblnrgdata['nrg'])-len(bblnrgdata_plot['nrg'])))"
   ]
  },
  {
   "cell_type": "code",
   "execution_count": null,
   "metadata": {},
   "outputs": [],
   "source": [
    "fig = plt.figure(figsize=(12,12)) \n",
    "\n",
    "ax = fig.add_subplot(111)\n",
    "ax.scatter(x='nrg', y='UnitsTotal', data=bblnrgdata_plot)\n",
    "ax.set_xlabel('Energy Consumption per Building (kBtu)', fontsize=15)\n",
    "ax.set_ylabel('Number of Units in Building', fontsize=15)\n",
    "ax.set_title('Units against Energy Usage per building', fontsize=15)"
   ]
  },
  {
   "cell_type": "markdown",
   "metadata": {},
   "source": [
    "**Figure 5**: Scatter plot after removing outliers. It seems like there is a possibility of a positive corrleation between the number of units in a building and the energy consumed by the building. "
   ]
  },
  {
   "cell_type": "markdown",
   "metadata": {
    "run_control": {
     "frozen": false,
     "read_only": false
    }
   },
   "source": [
    "# The magic of log scales!\n",
    "**Please read the following vcarefully! this is the only opportunity I have to discuss this with you this year. **\n",
    "\n",
    "Very often in science we will visualize data in log scale and model log data instead of the natural dataset (generally in log10).\n",
    "\n",
    "In in log10 every order of magnitude is separate by a unit: log10(10) = 1, log10(100) = 2, log10(100000)=5 (basically log10 gives you the number of 0's in its argument, or the *order of magnitude*)\n",
    "\n",
    "\n",
    "\n"
   ]
  },
  {
   "cell_type": "code",
   "execution_count": null,
   "metadata": {
    "ExecuteTime": {
     "end_time": "2018-11-19T01:53:13.461751Z",
     "start_time": "2018-11-19T01:53:13.191739Z"
    },
    "run_control": {
     "frozen": false,
     "read_only": false
    }
   },
   "outputs": [],
   "source": [
    "plt.plot(np.arange(100000), np.log10(np.arange(100000)), '-')\n",
    "plt.xlabel(\"x\", fontsize=20)\n",
    "plt.ylabel(r\"$log_{10}$(x)\", fontsize=20)"
   ]
  },
  {
   "cell_type": "markdown",
   "metadata": {
    "run_control": {
     "frozen": false,
     "read_only": false
    }
   },
   "source": [
    "The logarithm is a monotonic function : wherever its argument grows the function grows, wherever its argument decrease its log decrease. It's a function that grows fast when the argument is small and slowly when the argument is large, so it compresses the scale. \n",
    "\n",
    "Another property of the logarithm is that if the relationship between data is a power law (y = x^a) then the relationship between the log of the variables is linear! And we know that modeling things with linear models is easy!\n",
    "\n",
    "\tlog_10(x^y) = y ∙ log_10(x)\n",
    "    \n",
    "And since power laws are very common in nature we often model with power laws, or with inear relationships in log space."
   ]
  },
  {
   "cell_type": "markdown",
   "metadata": {
    "run_control": {
     "frozen": false,
     "read_only": false
    }
   },
   "source": [
    "# Plot both NRG vs Units total and Units total vs NRG, both in log space\n",
    "\n",
    "Surely there is a right way to think about which one is the independent and the dependent variable in this problem: do we think energy consumption causes occupancy or occupancy causes consumption?\n",
    "\n",
    "You are going to have to limit the axis values or you will not see anything: \n",
    "\n",
    "    energy between (1000,1e10)\n",
    "\n",
    "    units between (1,1000)\n",
    "\n",
    "You can cut the axis to visualize the data like this, **but you will need to cut the data to remove datapoint outside of this range when you model to get a good model.**\n",
    "\n",
    "to visualize the data in log scale you can use the dataframe plotting method with the argument \n",
    "\n",
    "    loglog=True\n"
   ]
  },
  {
   "cell_type": "code",
   "execution_count": null,
   "metadata": {
    "ExecuteTime": {
     "end_time": "2018-11-19T02:09:52.600828Z",
     "start_time": "2018-11-19T02:09:50.932436Z"
    },
    "run_control": {
     "frozen": false,
     "marked": false,
     "read_only": false
    }
   },
   "outputs": [],
   "source": [
    "bblnrgdata_log = bblnrgdata[(bblnrgdata['nrg'] >= 1000) & (bblnrgdata['nrg']<= 1e10)]\n",
    "bblnrgdata_log = bblnrgdata_log[(bblnrgdata_log['UnitsTotal'] >= 1) & (bblnrgdata_log['UnitsTotal'] <= 1000)]"
   ]
  },
  {
   "cell_type": "code",
   "execution_count": null,
   "metadata": {},
   "outputs": [],
   "source": [
    "fig = plt.figure(figsize=(12,12))\n",
    "\n",
    "ax = fig.add_subplot(111)\n",
    "bblnrgdata_log.plot(x='UnitsTotal', y='nrg', loglog=True, kind='scatter', ax=ax)\n",
    "ax.set_xlabel('Units (Total)', fontsize=15)\n",
    "ax.set_ylabel('Energy Consumption', fontsize=15)\n",
    "ax.set_title('Energy Usage against Total Units per building', fontsize=15)"
   ]
  },
  {
   "cell_type": "markdown",
   "metadata": {},
   "source": [
    "**Figure 6**: Scatter plot of energy consumption against total number of units per building. From 10 units onwards, there seems to be a possible positive correlation between energy consumption and total number of units per building. Meanwhile, for buildings with 10 units or less, there is a large variance in energy consumption."
   ]
  },
  {
   "cell_type": "code",
   "execution_count": null,
   "metadata": {
    "ExecuteTime": {
     "end_time": "2018-11-19T02:10:04.464098Z",
     "start_time": "2018-11-19T02:10:02.200814Z"
    },
    "run_control": {
     "frozen": false,
     "marked": false,
     "read_only": false
    }
   },
   "outputs": [],
   "source": [
    "fig = plt.figure(figsize=(12,12))\n",
    "\n",
    "ax = fig.add_subplot(111)\n",
    "bblnrgdata_log.plot(x='nrg', y='UnitsTotal', loglog=True, kind='scatter', ax=ax)\n",
    "ax.set_ylabel('Units (Total)', fontsize=15)\n",
    "ax.set_xlabel('Energy Consumption', fontsize=15)\n",
    "ax.set_title('Total Units against Energy Usage per building', fontsize=15)"
   ]
  },
  {
   "cell_type": "markdown",
   "metadata": {
    "ExecuteTime": {
     "end_time": "2018-11-19T04:23:25.084227Z",
     "start_time": "2018-11-19T04:23:25.077098Z"
    }
   },
   "source": [
    "**Figure 7**: Scatter plot of total number of units against energy consumption per building. It does not look like we can predict the total number of units in a building based on energy consumption of the building..."
   ]
  },
  {
   "cell_type": "markdown",
   "metadata": {
    "run_control": {
     "frozen": false,
     "read_only": false
    }
   },
   "source": [
    "# Fit the data with a line in log space:  \n"
   ]
  },
  {
   "cell_type": "markdown",
   "metadata": {
    "run_control": {
     "frozen": false,
     "read_only": false
    }
   },
   "source": [
    "## Model NRG as a linear function of number of units in the building \n",
    "Certainly there is a right way to think about this: which is the *independent* and the *dependent* variable? which do we think causes which? do units \"cause\"energy consumption or vice versa? please answer below\n",
    "\n",
    "**Answer**: It is intuitive to think that the number of units will affect energy consumption rather than the other way around (since these units have to exist before they can use energy!).\n",
    "\n",
    "However, indulge me and try both models: models (nrg vs units total & units total vs nrg). \n",
    "\n",
    "- create the models with statsmodels\n",
    "- print the model summary\n",
    "- plot the data and the fit\n",
    "- Check and comment on how the following model diagnostics change: \n",
    "        R^2 and LogLikelihood\n",
    "        \n",
    "(remember to use only the data in the appropriate range, see the previous step)"
   ]
  },
  {
   "cell_type": "code",
   "execution_count": null,
   "metadata": {
    "scrolled": true
   },
   "outputs": [],
   "source": [
    "# creating log columns for nrg and total units\n",
    "bblnrgdata_log['logtotalunits'] = np.log10(bblnrgdata_log['UnitsTotal'])\n",
    "bblnrgdata_log['logtotalnrg'] = np.log10(bblnrgdata_log['nrg'])\n",
    "bblnrgdata_log.head()"
   ]
  },
  {
   "cell_type": "markdown",
   "metadata": {
    "run_control": {
     "frozen": false,
     "read_only": false
    }
   },
   "source": [
    "### Units vs Energy"
   ]
  },
  {
   "cell_type": "code",
   "execution_count": null,
   "metadata": {
    "scrolled": false
   },
   "outputs": [],
   "source": [
    "ols1_model = smf.ols(formula='logtotalunits ~ logtotalnrg', data=bblnrgdata_log)\n",
    "fitted_ols1_model = ols1_model.fit()\n",
    "fitted_ols1_model.summary()"
   ]
  },
  {
   "cell_type": "code",
   "execution_count": null,
   "metadata": {},
   "outputs": [],
   "source": [
    "# extracting parameters\n",
    "ols1_int, ols1_coeff = fitted_ols1_model.params\n",
    "\n",
    "# creating array of x values to plot line\n",
    "xvalues = linspace(start=min(bblnrgdata_log['logtotalnrg']), stop=max(bblnrgdata_log['logtotalnrg']), num=50)\n",
    "\n",
    "# creating funciton of linear model\n",
    "ols1_mod = ols1_int + ols1_coeff*xvalues"
   ]
  },
  {
   "cell_type": "code",
   "execution_count": null,
   "metadata": {
    "scrolled": false
   },
   "outputs": [],
   "source": [
    "fig = plt.figure(figsize=(12,12))\n",
    "\n",
    "ax = fig.add_subplot(111)\n",
    "scatter = ax.scatter(x=bblnrgdata_log['logtotalnrg'], y=bblnrgdata_log['logtotalunits'], s=15)\n",
    "ax.plot(xvalues, ols1_mod, color='black', label='OLS fit')\n",
    "ax.set_ylabel(\"Total Units per Building\", fontsize=15)\n",
    "ax.set_xlabel(\"Energy Consumption\", fontsize=15)\n",
    "ax.set_title(\"Total Units against Energy Linear Model\", fontsize=15)\n",
    "ax.legend(loc=\"upper right\")\n",
    "ax.set_ylim()"
   ]
  },
  {
   "cell_type": "markdown",
   "metadata": {},
   "source": [
    "**Figure 8**: A best fit line is plotted on the scatter plot of total units against energy consumption. However, the linear model does not seem to be a good explanation for the data."
   ]
  },
  {
   "cell_type": "markdown",
   "metadata": {
    "run_control": {
     "frozen": false,
     "read_only": false
    }
   },
   "source": [
    "### Energy against Units"
   ]
  },
  {
   "cell_type": "code",
   "execution_count": null,
   "metadata": {
    "scrolled": false
   },
   "outputs": [],
   "source": [
    "ols2_model = smf.ols(formula='logtotalnrg ~ logtotalunits', data=bblnrgdata_log)\n",
    "fitted_ols2_model = ols2_model.fit()\n",
    "fitted_ols2_model.summary()"
   ]
  },
  {
   "cell_type": "code",
   "execution_count": null,
   "metadata": {},
   "outputs": [],
   "source": [
    "# extracting parameters\n",
    "ols2_int, ols2_coeff = fitted_ols2_model.params\n",
    "\n",
    "# creating array of x values to plot line\n",
    "xvalues2 = linspace(start=min(bblnrgdata_log['logtotalunits']), stop=max(bblnrgdata_log['logtotalunits']), num=50)\n",
    "\n",
    "# creating funciton of linear model\n",
    "ols2_mod = ols2_int + ols2_coeff*xvalues2"
   ]
  },
  {
   "cell_type": "code",
   "execution_count": null,
   "metadata": {},
   "outputs": [],
   "source": [
    "fig = plt.figure(figsize=(12,12))\n",
    "\n",
    "ax = fig.add_subplot(111)\n",
    "scatter = ax.scatter(x=bblnrgdata_log['logtotalunits'], y=bblnrgdata_log['logtotalnrg'], s=15, label='')\n",
    "ax.plot(xvalues2, ols2_mod, color='black', label='OLS fit')\n",
    "ax.set_xlabel(\"Total Units per Building\", fontsize=15)\n",
    "ax.set_ylabel(\"Energy Consumption\", fontsize=15)\n",
    "ax.set_title(\"Energy against Total Units Linear Model\", fontsize=15)\n",
    "ax.legend(loc=\"upper right\")\n",
    "ax.set_ylim()"
   ]
  },
  {
   "cell_type": "markdown",
   "metadata": {},
   "source": [
    "**Figure 9**: A best fit line is plotted on the scatter plot of energy consumption against total units. This linear model seems to provide a better explanation of the data compared to the previous linear model."
   ]
  },
  {
   "cell_type": "code",
   "execution_count": null,
   "metadata": {},
   "outputs": [],
   "source": [
    "print('R-Squared Value for Units against Energy Model: %f' %fitted_ols1_model.rsquared)\n",
    "print('R-Squared Value for Energy against Units Model: %f' %fitted_ols2_model.rsquared)\n",
    "\n",
    "print('Log-Likelihood for Units against Energy Model: %f'  %fitted_ols1_model.llf)\n",
    "print('Log-Likelihood for Energy against Units Model: %f' %fitted_ols2_model.llf)"
   ]
  },
  {
   "cell_type": "markdown",
   "metadata": {},
   "source": [
    "Both models have the same R-Squared value which makes sense because it is a measure of correlation. However, there is a difference in the log-likelihood of the two models - the Energy against Units Model has log-likelihood that is closer to zero than the Units against Energy Model. This indicates that the Energy against Units Model is a better model, i.e. Total Units is the independent variable and Energy Consumption is the dependent variable rather than the other way round."
   ]
  },
  {
   "cell_type": "markdown",
   "metadata": {
    "run_control": {
     "frozen": false,
     "read_only": false
    }
   },
   "source": [
    "# Second degree polynomial fit\n",
    "\n",
    "model the data with a slightly more complex model: \n",
    "    \n",
    "    y = ax*x + bx + c, \n",
    "\n",
    "instead of \n",
    "        \n",
    "    y = bx + c\n",
    "    \n",
    "**make sure you print the summary and plot the data and the model**\n"
   ]
  },
  {
   "cell_type": "code",
   "execution_count": null,
   "metadata": {
    "ExecuteTime": {
     "end_time": "2018-11-19T02:56:59.864727Z",
     "start_time": "2018-11-19T02:56:57.993684Z"
    },
    "run_control": {
     "frozen": false,
     "marked": false,
     "read_only": false
    }
   },
   "outputs": [],
   "source": [
    "bblnrgdata_log['logtotalunits_2'] = bblnrgdata_log['logtotalunits']**2"
   ]
  },
  {
   "cell_type": "code",
   "execution_count": null,
   "metadata": {},
   "outputs": [],
   "source": [
    "ols3_model = smf.ols(formula='logtotalnrg ~ logtotalunits + logtotalunits_2', data=bblnrgdata_log)\n",
    "fitted_ols3_model = ols3_model.fit()\n",
    "fitted_ols3_model.summary()"
   ]
  },
  {
   "cell_type": "code",
   "execution_count": null,
   "metadata": {},
   "outputs": [],
   "source": [
    "# extracting parameters\n",
    "ols3_int, ols3_coeff, ols3_coeff_2 = fitted_ols3_model.params\n",
    "\n",
    "# creating array of x values to plot line\n",
    "xvalues2 = linspace(start=min(bblnrgdata_log['logtotalunits']), stop=max(bblnrgdata_log['logtotalunits']), num=50)\n",
    "\n",
    "# creating funciton of linear model\n",
    "ols3_mod = ols3_int + ols3_coeff*xvalues2 + ols3_coeff_2*(xvalues2**2)"
   ]
  },
  {
   "cell_type": "code",
   "execution_count": null,
   "metadata": {},
   "outputs": [],
   "source": [
    "fig = plt.figure(figsize=(12,12))\n",
    "\n",
    "ax = fig.add_subplot(111)\n",
    "scatter = ax.scatter(x=bblnrgdata_log['logtotalunits'], y=bblnrgdata_log['logtotalnrg'], s=15, label='')\n",
    "ax.plot(xvalues2, ols3_mod, color='black', label='OLS fit')\n",
    "ax.set_xlabel(\"Total Units per Building\", fontsize=15)\n",
    "ax.set_ylabel(\"Energy Consumption\", fontsize=15)\n",
    "ax.set_title(\"Energy against Total Units Linear Model\", fontsize=15)\n",
    "ax.legend(loc=\"upper right\")\n",
    "ax.set_ylim()"
   ]
  },
  {
   "cell_type": "markdown",
   "metadata": {
    "run_control": {
     "frozen": false,
     "read_only": false
    }
   },
   "source": [
    "**Figure 10**: A plot of the second degree polynomial model seems to indicate that it is a better model than the best fit line. The second degree polynomial fit also has a higher R-squared value and a log-likelihood closer to 0, compared to the model with degree one."
   ]
  },
  {
   "cell_type": "markdown",
   "metadata": {
    "run_control": {
     "frozen": false,
     "read_only": false
    }
   },
   "source": [
    "# calculate the chi square and likelihood of your model"
   ]
  },
  {
   "cell_type": "markdown",
   "metadata": {
    "run_control": {
     "frozen": false,
     "read_only": false
    }
   },
   "source": [
    "## Define a chisquare function"
   ]
  },
  {
   "cell_type": "code",
   "execution_count": null,
   "metadata": {
    "ExecuteTime": {
     "end_time": "2018-11-19T02:30:10.960902Z",
     "start_time": "2018-11-19T02:30:10.955120Z"
    },
    "run_control": {
     "frozen": false,
     "marked": false,
     "read_only": false
    }
   },
   "outputs": [],
   "source": [
    "def chi2(data, model, errors = None):\n",
    "    '''Calculates the chi sq given data, model and errors\n",
    "    Arguments:\n",
    "    data: series of datapoints (endogenous variable)\n",
    "    model: series of predicted values corresponding to the observed data\n",
    "    errors: series of errors (optional). \n",
    "    If errors are not passed all errors are set to 1\n",
    "    '''\n",
    "    if errors is None:\n",
    "        ones = pd.Series(data=np.ones(len(data)))\n",
    "        return sum((model - data)**2/(ones**2))\n",
    "    else:\n",
    "        return sum((model - data)**2/(errors**2))"
   ]
  },
  {
   "cell_type": "markdown",
   "metadata": {},
   "source": [
    "## Define and calculate errors"
   ]
  },
  {
   "cell_type": "markdown",
   "metadata": {
    "run_control": {
     "frozen": false,
     "read_only": false
    }
   },
   "source": [
    "Assume Poisson statistics and calculate the errors accordingly. Remember that you have used 2 quantities combined linearly to calculate the energy (your *dependent* variable) , so the errors combine in quadrature!\n",
    "\n",
    "    Total Error = sqrt(error1^2 + error2^2)\n",
    "    \n",
    "Your *independent* variable has uncertainty also! assume it is also Poissonian"
   ]
  },
  {
   "cell_type": "markdown",
   "metadata": {
    "run_control": {
     "frozen": false,
     "read_only": false
    }
   },
   "source": [
    "** propagation of errors on the log:**\n",
    "https://en.wikipedia.org/wiki/Propagation_of_uncertainty#Linear_combinations\n",
    "\n",
    "$f=a\\log _{10}(A)$\n",
    "\n",
    "$\\sigma _{f}\\approx \\left(a{\\frac {\\sigma _{A}}{A\\ln(10)}}\\right)$"
   ]
  },
  {
   "cell_type": "code",
   "execution_count": null,
   "metadata": {},
   "outputs": [],
   "source": [
    "def err(x):\n",
    "    return np.sqrt(x)"
   ]
  },
  {
   "cell_type": "code",
   "execution_count": null,
   "metadata": {
    "ExecuteTime": {
     "end_time": "2018-11-19T02:30:15.282224Z",
     "start_time": "2018-11-19T02:30:15.260625Z"
    },
    "run_control": {
     "frozen": false,
     "marked": false,
     "read_only": false
    }
   },
   "outputs": [],
   "source": [
    "## Assume that there is error in the reported energy. \n",
    "## but that is the product of two measured quantities, each of which will have errors. \n",
    "## The minimum error is the squareroot of the value\n",
    "\n",
    "#errors on the measured quantities\n",
    "\n",
    "nrg_err_num = np.sqrt(err(bblnrgdata_log['Site EUI(kBtu/ft2)'])**2 + err(bblnrgdata_log['Area (ft²)'])**2)\n",
    "nrg_err_denom = bblnrgdata_log['Site EUI(kBtu/ft2)']*bblnrgdata_log['Area (ft²)']*np.log(10)\n",
    "bblnrgdata_log['errorslognrg'] = nrg_err_num/nrg_err_denom\n",
    "\n",
    "units_err_num = err(bblnrgdata_log['logtotalunits'])\n",
    "units_err_denom = bblnrgdata_log['logtotalunits']*np.log(10)\n",
    "bblnrgdata_log['errorslogunits'] = units_err_num/units_err_denom"
   ]
  },
  {
   "cell_type": "code",
   "execution_count": null,
   "metadata": {},
   "outputs": [],
   "source": [
    "bblnrgdata_log.head()"
   ]
  },
  {
   "cell_type": "markdown",
   "metadata": {
    "run_control": {
     "frozen": false,
     "read_only": false
    }
   },
   "source": [
    "## Make 3 plots: one with x errors, one with y errors, one with x and y errors. \n",
    "\n",
    "with pylab you can do it with pl.errorbar(x, y, xerr=xerror, yerr=yerror)"
   ]
  },
  {
   "cell_type": "code",
   "execution_count": null,
   "metadata": {
    "ExecuteTime": {
     "end_time": "2018-11-19T02:52:59.533353Z",
     "start_time": "2018-11-19T02:52:56.443700Z"
    },
    "run_control": {
     "frozen": false,
     "marked": false,
     "read_only": false
    }
   },
   "outputs": [],
   "source": [
    "#I could also include errors for number of units\n",
    "fig2 = plt.figure(figsize=(20,20))\n",
    "\n",
    "gs1 = gridspec.GridSpec(3, 3)\n",
    "gs1.update(left=0.68, right=0.68, wspace=0.2)\n",
    "\n",
    "\n",
    "ax1 = plt.subplot2grid((3, 3), (0, 0), colspan=1)\n",
    "ax1.errorbar(np.log10(bblnrgdata_log.UnitsTotal), np.log10(bblnrgdata_log.nrg), \n",
    "            yerr=bblnrgdata_log.errorslognrg, fmt='.',\n",
    "            alpha=0.5)\n",
    "ax1.set_xlabel(\"log10 of Units\", fontsize=15)\n",
    "ax1.set_ylabel(\"log10 Energy\", fontsize=15)\n",
    "ax1.set_title(\"Plot with Y errors only\")\n",
    "\n",
    "\n",
    "ax2 = plt.subplot2grid((3, 3), (0, 1), colspan=1)\n",
    "ax2.errorbar(np.log10(bblnrgdata_log.UnitsTotal), np.log10(bblnrgdata_log.nrg), \n",
    "            xerr=bblnrgdata_log.errorslogunits, fmt='.',\n",
    "            alpha=0.5)\n",
    "ax2.set_xlabel(\"log10 of Units\", fontsize=15)\n",
    "ax2.set_ylabel(\"log10 Energy\", fontsize=15)\n",
    "ax2.set_title(\"Plot with X errors only\")\n",
    "\n",
    "\n",
    "ax3 = plt.subplot2grid((3,3), (1, 0), rowspan = 2, colspan=2)\n",
    "ax3.errorbar(np.log10(bblnrgdata_log.UnitsTotal), np.log10(bblnrgdata_log.nrg), \n",
    "            yerr=bblnrgdata_log.errorslognrg,\n",
    "           xerr=bblnrgdata_log.errorslogunits, alpha=0.5, fmt='.')\n",
    "ax3.set_xlabel(\"log10 of Units\", fontsize=15)\n",
    "ax3.set_ylabel(\"log10 Energy\", fontsize=15)\n",
    "ax3.set_title(\"Both X and Y errors\")\n",
    "\n",
    "print (\"The largest error bar is for\")\n",
    "bblnrgdata_log[bblnrgdata_log.errorslognrg == bblnrgdata_log.errorslognrg.max()]\n"
   ]
  },
  {
   "cell_type": "markdown",
   "metadata": {},
   "source": [
    "**Figure 11**: Scatter plot of energy against units with errorbars. In the top panel, the x errors and y errors are plotted individually. In the bottom panel, the x and y errors are plotted. Because the y errors (energy errors) are much smaller than the actual y values, they do not show up obviously on the plots."
   ]
  },
  {
   "cell_type": "markdown",
   "metadata": {
    "run_control": {
     "frozen": false,
     "read_only": false
    }
   },
   "source": [
    "Errors are measured by assuming Poisson statistics at the measurement level for energy per square foot, squarefootage, and for the number of units, and propagate properly to the log space. Notice that we do not know what the units of energy really represent: the Poisson statitics should be applied to the measured counts, but the enrgy consumption is a continuous variable, only discretized by the act of measuring it. \n",
    "\n",
    "IMPORTANT! errors as the square root of the measurement (Poisson statistics) are ONLY meaningful when you are potting dimensionless quantoities! here it is preposterous to assume that the errors are the square root of the measurement. WHY? because then if I express my energy by sq meter, instead of sq feet, I get a different error on the measurement for the same measurement - which makes no sense! However, in this case, I am not using the errors to create the model (no WLS for example) so this error allows me to compare uncertainty on the datapoints. Even if the errors are different, under linear transformations (changes of units for example) the relationship between errors on 2 datapoints will be preserved. \n",
    "\n",
    "Notice: No points are taken off if other errors are used, including the sqrt of the log energy, and the correct errors propagation in the log on errors calculated, however, as the sqrt of the tot energy per building, but the errors are in the measured quantities, so this is the proper way to obtain them. In addition the units of energy are extremely large, thus the errors in percentage on the energy are extremely small. These errors are likely to be underestmated due to our ignorance of the details of the experiment."
   ]
  },
  {
   "cell_type": "markdown",
   "metadata": {
    "run_control": {
     "frozen": false,
     "read_only": false
    }
   },
   "source": [
    "## Add the errors and calculate the chi square"
   ]
  },
  {
   "cell_type": "markdown",
   "metadata": {
    "run_control": {
     "frozen": false,
     "read_only": false
    }
   },
   "source": [
    "\n",
    "### calculate the degrees of freedom of this model"
   ]
  },
  {
   "cell_type": "code",
   "execution_count": null,
   "metadata": {},
   "outputs": [],
   "source": [
    "#degrees of freedom: number of observations - number of model parameters\n",
    "# note: these are reported as dof of the residuals in the statsmodels fit summary, but jsut to make sure let's calculate them\n",
    "dof = len(bblnrgdata_log['nrg'])-2\n",
    "print (\"degrees of freedom:\" , dof)"
   ]
  },
  {
   "cell_type": "code",
   "execution_count": null,
   "metadata": {},
   "outputs": [],
   "source": [
    "ols1_predicted = pd.Series(data=fitted_ols1_model.predict())\n",
    "ols2_predicted = pd.Series(data=fitted_ols2_model.predict())"
   ]
  },
  {
   "cell_type": "code",
   "execution_count": null,
   "metadata": {
    "ExecuteTime": {
     "end_time": "2018-11-19T04:11:09.485898Z",
     "start_time": "2018-11-19T04:11:09.465495Z"
    },
    "run_control": {
     "frozen": false,
     "marked": false,
     "read_only": false
    }
   },
   "outputs": [],
   "source": [
    "print (\"Units vs Energy residuals (no errors include): %.2f\"%\\\n",
    "       (chi2(np.log10(bblnrgdata_log.UnitsTotal), ols1_predicted) / dof))\n",
    "\n",
    "print (\"Units vs Energy chi square per DOF w independent variable error only: %.2f\"%\\\n",
    "       (chi2(np.log10(bblnrgdata_log.UnitsTotal), ols1_predicted, \n",
    "            errors = bblnrgdata_log.errorslognrg) / dof))\n",
    "\n",
    "print (\"Units vs Energy chi square per DOF : %.2f\"%\\\n",
    "       (chi2(np.log10(bblnrgdata_log.UnitsTotal), ols1_predicted, \n",
    "            errors = np.sqrt(bblnrgdata_log.errorslognrg**2 + \n",
    "                             bblnrgdata_log.errorslogunits**2))  / dof))\n"
   ]
  },
  {
   "cell_type": "code",
   "execution_count": null,
   "metadata": {
    "ExecuteTime": {
     "end_time": "2018-11-19T04:11:10.738310Z",
     "start_time": "2018-11-19T04:11:10.722046Z"
    },
    "run_control": {
     "frozen": false,
     "read_only": false
    }
   },
   "outputs": [],
   "source": [
    "print (\"Energy vs Units residuals (no errors include): %.2f\"%\\\n",
    "       (chi2(np.log10(bblnrgdata_log.nrg), ols2_predicted) / dof))\n",
    "\n",
    "print (\"Energy vs Units chi square per DOF w independent variable error only: %.2f\"%\\\n",
    "       (chi2(np.log10(bblnrgdata_log.nrg), ols2_predicted, \n",
    "            errors = bblnrgdata_log.errorslognrg) / dof))\n",
    "\n",
    "print (\"Energy vs Units chi square per DOF : %.2f\"%\\\n",
    "       (chi2(np.log10(bblnrgdata_log.nrg), ols2_predicted, \n",
    "            errors = np.sqrt(bblnrgdata_log.errorslognrg**2 + \n",
    "                             bblnrgdata_log.errorslogunits**2))  / dof))\n"
   ]
  },
  {
   "cell_type": "markdown",
   "metadata": {
    "run_control": {
     "frozen": false,
     "read_only": false
    }
   },
   "source": [
    "### Compare the models using the chi square:\n",
    "The Units vs Energy chi square per DOF and residuals is higher than the Energy vs Units chi square per DOF and residuals, indicating that the Units vs Energy model is a poorer model than the Energy vs Units model. However, for the chi square per DOF with independent variable error only, the Units vs Energy model seems to perform better than the Energy vs Units model with a lower chi-square."
   ]
  },
  {
   "cell_type": "markdown",
   "metadata": {
    "run_control": {
     "frozen": false,
     "read_only": false
    }
   },
   "source": [
    "If the result of the units vs energy surprises you plot the influence plot for the model. Except the default statsmodels influence plot is a bit of a mess, cause so many points have high leverage, and thus high influence, that the labels cover the span of the plot and make it useless. One could relatively easily engineered one's own influence plot, but instead for the purpose of this discussion comparing the units vs energy with the energy vs units influence plot is sufficient to show how many more points with high **leverage** are in the first plot than in the second - look at the axis range! What is happening is that the distribution of points along the exogenous variable is much better suited to a line fit in the energy vs units plot. You want a large spread in the exogenous variable. In the units vs energy most values of the exogenous variable (energy in this case) are clustered in a small range, while the endogenous variable varies greatly for those points. So the core of the distribution has low predictive power, and the importance of the \"outliers\" with high and low energy values is enhanced in the fit. "
   ]
  },
  {
   "cell_type": "code",
   "execution_count": null,
   "metadata": {},
   "outputs": [],
   "source": [
    "fig = plt.figure(figsize=(20,10)) \n",
    "\n",
    "ax1 = fig.add_subplot(121)\n",
    "smg.regressionplots.influence_plot(fitted_ols1_model, ax=ax1)\n",
    "ax1.set_title('Influence Plot for Units vs Energy Model', fontsize=15)\n",
    ";\n",
    "\n",
    "ax2 = fig.add_subplot(122)\n",
    "smg.regressionplots.influence_plot(fitted_ols2_model, ax=ax2)\n",
    "ax2.set_title('Influence Plot for Energy vs Units Model', fontsize=15)\n",
    ";"
   ]
  },
  {
   "cell_type": "markdown",
   "metadata": {},
   "source": [
    "**Figure 12**: The influence plot for the Units against Energy Model shows a smaller spread (-4 to 3) compared to the Energy against Units Model (-8 to 8), indicating that is a poorer predictive model."
   ]
  },
  {
   "cell_type": "markdown",
   "metadata": {
    "run_control": {
     "frozen": false,
     "read_only": false
    }
   },
   "source": [
    "# Comparing the linear and curve fit with Likelihood Ratio LR test; we require a significance $\\alpha=0.05$\n",
    "\n",
    "** The curve fit and linear fit of the Energy vs Units can be compared with LR test because they are nested models**\n",
    "\n",
    "** The difference in the number of degrees of freedom is 1, so the LR statistics will follow a $\\chi^2$ distribution with 1 DOF.**\n"
   ]
  },
  {
   "cell_type": "code",
   "execution_count": null,
   "metadata": {},
   "outputs": [],
   "source": [
    "lr_results = fitted_ols3_model.compare_lr_test(fitted_ols2_model)"
   ]
  },
  {
   "cell_type": "code",
   "execution_count": null,
   "metadata": {},
   "outputs": [],
   "source": [
    "print('degree of freedom: %f' %lr_results[2])\n",
    "print('LR Stat: %f' %lr_results[0])\n",
    "print('p-value: %f' %lr_results[1])"
   ]
  },
  {
   "cell_type": "markdown",
   "metadata": {},
   "source": [
    "At a significance level of 0.05, the Chi-Square statistic with 1 degree of freedom is 3.841. The LR stat is 755.811785, which is much higher than 3.841. This means that the p-value is less than 0.05, so we can reject the null hypothesis that the restricted model (linear fit) is a better model than the alternative model (quadratic fit), i.e. the better model is the quadratic model. Alternatively, we can just look at the p-value of 0.000000 and conclude that since the p-value < 0.05, we can reject the null hypothesis."
   ]
  },
  {
   "cell_type": "markdown",
   "metadata": {
    "run_control": {
     "frozen": false,
     "read_only": false
    }
   },
   "source": [
    "## EXTRA CREDIT: a plot of anything related to these data"
   ]
  },
  {
   "cell_type": "code",
   "execution_count": null,
   "metadata": {},
   "outputs": [],
   "source": [
    "data_year = bblnrgdata.groupby(by='YearBuilt').sum()\n",
    "data_year.drop(axis=0, labels=0, inplace=True)\n",
    "data_year.reset_index(inplace=True)\n",
    "data_year.head()"
   ]
  },
  {
   "cell_type": "code",
   "execution_count": null,
   "metadata": {},
   "outputs": [],
   "source": [
    "data_year['nrg_avg'] = data_year['nrg']/data_year['Area (ft²)']\n",
    "data_year = data_year[data_year['YearBuilt']>=1950]\n",
    "data_year = data_year[data_year['nrg_avg']<20000]\n",
    "data_year.head()"
   ]
  },
  {
   "cell_type": "code",
   "execution_count": null,
   "metadata": {},
   "outputs": [],
   "source": [
    "fig = plt.figure(figsize=(8,8))\n",
    "\n",
    "ax = fig.add_subplot(111)\n",
    "ax.scatter(x='YearBuilt', y='nrg_avg', data=data_year)\n",
    "ax.set_title('Average Energy Usage against Year Built')\n",
    "ax.set_ylabel('Average Energy')\n",
    "ax.set_xlabel('Year')"
   ]
  },
  {
   "cell_type": "code",
   "execution_count": null,
   "metadata": {},
   "outputs": [],
   "source": []
  }
 ],
 "metadata": {
  "anaconda-cloud": {},
  "kernelspec": {
   "display_name": "PUI2016_Python3",
   "language": "python",
   "name": "pui2016_python3"
  },
  "language_info": {
   "codemirror_mode": {
    "name": "ipython",
    "version": 3
   },
   "file_extension": ".py",
   "mimetype": "text/x-python",
   "name": "python",
   "nbconvert_exporter": "python",
   "pygments_lexer": "ipython3",
   "version": "3.5.4"
  },
  "latex_envs": {
   "LaTeX_envs_menu_present": true,
   "bibliofile": "biblio.bib",
   "cite_by": "apalike",
   "current_citInitial": 1,
   "eqLabelWithNumbers": true,
   "eqNumInitial": 1,
   "hotkeys": {
    "equation": "Ctrl-E",
    "itemize": "Ctrl-I"
   },
   "labels_anchors": false,
   "latex_user_defs": false,
   "report_style_numbering": false,
   "user_envs_cfg": false
  },
  "toc": {
   "colors": {
    "hover_highlight": "#DAA520",
    "running_highlight": "#FF0000",
    "selected_highlight": "#FFD700"
   },
   "moveMenuLeft": true,
   "nav_menu": {
    "height": "503px",
    "width": "253px"
   },
   "navigate_menu": true,
   "number_sections": true,
   "sideBar": true,
   "threshold": 4,
   "toc_cell": false,
   "toc_section_display": "block",
   "toc_window_display": false
  }
 },
 "nbformat": 4,
 "nbformat_minor": 1
}
