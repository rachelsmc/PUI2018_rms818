{
 "cells": [
  {
   "cell_type": "code",
   "execution_count": 1,
   "metadata": {
    "ExecuteTime": {
     "end_time": "2017-10-04T07:08:36.642475",
     "start_time": "2017-10-04T07:08:36.615296"
    },
    "collapsed": false,
    "run_control": {
     "frozen": false,
     "read_only": false
    }
   },
   "outputs": [],
   "source": [
    "from __future__ import print_function, division\n",
    "__author__ = 'fbb' # CUSP PUI 2017"
   ]
  },
  {
   "cell_type": "code",
   "execution_count": 2,
   "metadata": {
    "ExecuteTime": {
     "end_time": "2017-10-04T07:08:40.109840",
     "start_time": "2017-10-04T07:08:37.229161"
    },
    "collapsed": false,
    "run_control": {
     "frozen": false,
     "read_only": false
    }
   },
   "outputs": [
    {
     "name": "stdout",
     "output_type": "stream",
     "text": [
      "Populating the interactive namespace from numpy and matplotlib\n"
     ]
    }
   ],
   "source": [
    "import pandas as pd\n",
    "import pylab as pl\n",
    "import scipy.stats as spst\n",
    "%pylab inline\n",
    "pl.rcParams['font.size'] = 20"
   ]
  },
  {
   "cell_type": "markdown",
   "metadata": {
    "run_control": {
     "frozen": false,
     "read_only": false
    }
   },
   "source": [
    "**Is the new Bus route improving commute?**\n",
    "\n",
    "A new bus route for line X8 is implemented. MTA wants to know if it improves commute time (travel time at peak hours).\n",
    "\n",
    "They know what the mean and standard deviation of the travel time used to be, and measure the new travel time 100 times. The data is in \n",
    "https://raw.githubusercontent.com/fedhere/PUI2016_fb55/master/Lab3_fb55/times.txt"
   ]
  },
  {
   "cell_type": "markdown",
   "metadata": {
    "run_control": {
     "frozen": false,
     "read_only": false
    }
   },
   "source": [
    "## Null Hypothesis Statistical Test NHST\n",
    "### Null hypothesis testing problem formulation:\n",
    "**Null Hypothesis:**\n",
    "new bus route does not change travel time\n",
    "$$ H_0: Told - Tnew = 0 $$\n",
    "**Alternative Hypothesis:**\n",
    "new bus route does change travel time\n",
    "$$ H_a: |Told - Tnew| > 0 $$\n",
    "** Significance: alpha = 0.05**\n",
    "\n"
   ]
  },
  {
   "cell_type": "code",
   "execution_count": 9,
   "metadata": {
    "ExecuteTime": {
     "end_time": "2017-10-03T23:26:36.675498",
     "start_time": "2017-10-03T23:26:36.669750"
    },
    "collapsed": true,
    "run_control": {
     "frozen": false,
     "read_only": false
    }
   },
   "outputs": [],
   "source": [
    "#assume old distribution is a \"population\" and it is Gaussian distributed\n",
    "oldMean = 36.\n",
    "oldStd = 6.\n"
   ]
  },
  {
   "cell_type": "code",
   "execution_count": 10,
   "metadata": {
    "ExecuteTime": {
     "end_time": "2017-10-03T23:26:37.213111",
     "start_time": "2017-10-03T23:26:37.084102"
    },
    "collapsed": false,
    "run_control": {
     "frozen": false,
     "read_only": false
    }
   },
   "outputs": [
    {
     "name": "stdout",
     "output_type": "stream",
     "text": [
      "new trip duration:\n",
      "number of trips measured N = 100,\n",
      "mean time:  34.47 minutes,\n",
      "standard deviation: 7.10 minutes\n"
     ]
    }
   ],
   "source": [
    "newTimes = pd.read_csv(\"https://raw.githubusercontent.com/fedhere/PUI2017_fb55/master/Lab3_fb55/times.txt\", header=None)\n",
    "newMean = newTimes.values.mean()\n",
    "newStd = newTimes.values.std()\n",
    "N = len(newTimes)\n",
    "print (\"new trip duration:\\nnumber of trips measured N = {0},\\nmean time:  {1:.2f} minutes,\\nstandard deviation: {2:.2f} minutes\".format(\n",
    "    N, newMean, newStd))"
   ]
  },
  {
   "cell_type": "markdown",
   "metadata": {
    "ExecuteTime": {
     "end_time": "2017-10-03T23:00:51.468110",
     "start_time": "2017-10-03T23:00:51.462423"
    },
    "run_control": {
     "frozen": false,
     "read_only": false
    }
   },
   "source": [
    "### Z test:\n",
    "tests a difference between means. \n",
    "$$ Z = \\frac{|M - \\mu|}{\\frac{\\sigma}{\\sqrt(N)}} $$\n",
    "\n"
   ]
  },
  {
   "cell_type": "code",
   "execution_count": 11,
   "metadata": {
    "ExecuteTime": {
     "end_time": "2017-10-03T23:26:37.667579",
     "start_time": "2017-10-03T23:26:37.660475"
    },
    "collapsed": false,
    "run_control": {
     "frozen": false,
     "read_only": false
    }
   },
   "outputs": [
    {
     "name": "stdout",
     "output_type": "stream",
     "text": [
      "Z statistics\n",
      "Z = 2.56\n"
     ]
    }
   ],
   "source": [
    "z = np.abs(oldMean - newMean) / (oldStd / np.sqrt(N))\n",
    "print (\"Z statistics\\nZ = {0:.2f}\".format(z))"
   ]
  },
  {
   "cell_type": "markdown",
   "metadata": {
    "run_control": {
     "frozen": false,
     "read_only": false
    }
   },
   "source": [
    "This is in units of standard deviations (sort of)! \n",
    "    - 0.05 is 2 standard deviations\n",
    "    - 2.56 > 2 so I am farther than 2 standard deviations from the mean. \n",
    "(in reality for a 2-tailed test the threshold for 0.05 significance is 1.96, not 2)\n",
    "    \n",
    "** We reject the null hypothesis, p-value *p* < 0.05 **    "
   ]
  },
  {
   "cell_type": "markdown",
   "metadata": {
    "run_control": {
     "frozen": false,
     "read_only": false
    }
   },
   "source": [
    "## effect size"
   ]
  },
  {
   "cell_type": "code",
   "execution_count": 12,
   "metadata": {
    "ExecuteTime": {
     "end_time": "2017-10-03T23:26:39.104304",
     "start_time": "2017-10-03T23:26:38.567495"
    },
    "collapsed": false,
    "run_control": {
     "frozen": false,
     "read_only": false
    }
   },
   "outputs": [
    {
     "data": {
      "image/png": "[encoded data removed]",
      "text/plain": [
       "<matplotlib.figure.Figure at 0x113f48f28>"
      ]
     },
     "metadata": {},
     "output_type": "display_data"
    }
   ],
   "source": [
    "fig, ax = pl.subplots(1)\n",
    "tBins = newTimes.hist(ax=ax, normed=True)\n",
    "ax.set_xlabel(\"travel time (minutes)\")\n",
    "ax.set_ylabel(\"fraction\")\n",
    "ax.set_title(\"new vs old trip duration\")\n",
    "xline = np.arange(*ax.get_xlim())\n",
    "\n",
    "ax.plot(xline, spst.distributions.norm.pdf(xline, loc=oldMean, scale=oldStd))\n",
    "\n",
    "ax.plot([oldMean, oldMean], [0, ax.get_ylim()[1]], 'k-', label=\"Old mean\")\n",
    "ax.plot([newMean, newMean], [0, ax.get_ylim()[1]], 'k--', label=\"New mean\")\n",
    "ax.legend(fontsize=15);"
   ]
  },
  {
   "cell_type": "markdown",
   "metadata": {
    "run_control": {
     "frozen": false,
     "read_only": false
    }
   },
   "source": [
    "** Figure 1: **\n",
    "caption: the observed distribution of travel times after rerouting is plotted as a histogram (blue). The distribution of travel times before rerouting us plotted as a Gaussian with mean 36 minutes and standard deviation 6 minutes. The means are indicated by a solid and a dashed black line, respectively.\n",
    "While the distributions are different according to a Z test the difference in the mean appears small. "
   ]
  },
  {
   "cell_type": "markdown",
   "metadata": {
    "run_control": {
     "frozen": false,
     "read_only": false
    }
   },
   "source": [
    "Z test Cohen_d:\n",
    "$$ d = \\frac{|M - \\mu|}{\\bar{\\sigma}} $$"
   ]
  },
  {
   "cell_type": "code",
   "execution_count": 13,
   "metadata": {
    "ExecuteTime": {
     "end_time": "2017-10-03T23:26:39.741230",
     "start_time": "2017-10-03T23:26:39.734249"
    },
    "collapsed": false,
    "run_control": {
     "frozen": false,
     "read_only": false
    }
   },
   "outputs": [
    {
     "name": "stdout",
     "output_type": "stream",
     "text": [
      "The effect size d is 0.23\n"
     ]
    }
   ],
   "source": [
    "meanSigma = (oldStd + newStd) * 0.5\n",
    "d = np.abs(oldMean - newMean) / meanSigma\n",
    "print ('The effect size d is {0:.2f}'.format(d))"
   ]
  },
  {
   "cell_type": "markdown",
   "metadata": {
    "run_control": {
     "frozen": false,
     "read_only": false
    }
   },
   "source": [
    "** Although there is a statistically significant difference, the effect size is 0.23. According to Cohen (1960)'s prescriptions  the effect size is *small* **"
   ]
  }
 ],
 "metadata": {
  "anaconda-cloud": {},
  "kernelspec": {
   "display_name": "Python [conda env:py35]",
   "language": "python",
   "name": "conda-env-py35-py"
  },
  "language_info": {
   "codemirror_mode": {
    "name": "ipython",
    "version": 3
   },
   "file_extension": ".py",
   "mimetype": "text/x-python",
   "name": "python",
   "nbconvert_exporter": "python",
   "pygments_lexer": "ipython3",
   "version": "3.5.2"
  },
  "latex_envs": {
   "LaTeX_envs_menu_present": true,
   "bibliofile": "biblio.bib",
   "cite_by": "apalike",
   "current_citInitial": 1,
   "eqLabelWithNumbers": true,
   "eqNumInitial": 1,
   "hotkeys": {
    "equation": "Ctrl-E",
    "itemize": "Ctrl-I"
   },
   "labels_anchors": false,
   "latex_user_defs": false,
   "report_style_numbering": false,
   "user_envs_cfg": false
  },
  "toc": {
   "colors": {
    "hover_highlight": "#DAA520",
    "running_highlight": "#FF0000",
    "selected_highlight": "#FFD700"
   },
   "moveMenuLeft": true,
   "nav_menu": {
    "height": "11.992187999999999px",
    "width": "1.992188px"
   },
   "navigate_menu": true,
   "number_sections": true,
   "sideBar": true,
   "threshold": 4,
   "toc_cell": false,
   "toc_section_display": "block",
   "toc_window_display": false
  }
 },
 "nbformat": 4,
 "nbformat_minor": 1
}
